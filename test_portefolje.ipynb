{
 "cells": [
  {
   "cell_type": "code",
   "execution_count": 32,
   "metadata": {},
   "outputs": [],
   "source": [
    "import yfinance as yf\n",
    "import pandas as pd"
   ]
  },
  {
   "cell_type": "code",
   "execution_count": 36,
   "metadata": {},
   "outputs": [
    {
     "data": {
      "text/plain": [
       "0    HELG.OL\n",
       "Name: tickername, dtype: object"
      ]
     },
     "execution_count": 36,
     "metadata": {},
     "output_type": "execute_result"
    }
   ],
   "source": [
    "# Liste over aksjer:\n",
    "# Lager meg en dataramme av aksjer fra excel:\n",
    "PORTFOLIO_DF = pd.read_excel('portefølje.xlsx')"
   ]
  },
  {
   "cell_type": "code",
   "execution_count": 43,
   "metadata": {},
   "outputs": [],
   "source": [
    "helg = yf.Ticker(\"DNB.OL\")"
   ]
  },
  {
   "cell_type": "code",
   "execution_count": 44,
   "metadata": {},
   "outputs": [
    {
     "data": {
      "text/plain": [
       "Date\n",
       "2004-04-30    2.20\n",
       "2005-04-22    2.55\n",
       "2006-04-26    3.50\n",
       "2007-04-25    4.00\n",
       "2008-05-02    4.50\n",
       "2010-04-28    1.26\n",
       "2011-04-29    4.00\n",
       "2012-04-26    2.00\n",
       "2013-05-02    2.10\n",
       "2014-04-25    2.70\n",
       "2015-04-24    3.80\n",
       "2016-04-27    4.50\n",
       "2017-04-26    5.70\n",
       "2018-04-25    7.10\n",
       "2019-05-02    8.25\n",
       "Name: Dividends, dtype: float64"
      ]
     },
     "execution_count": 44,
     "metadata": {},
     "output_type": "execute_result"
    }
   ],
   "source": [
    "helg.dividends"
   ]
  },
  {
   "cell_type": "code",
   "execution_count": 8,
   "metadata": {},
   "outputs": [],
   "source": [
    "msft = yf.Ticker(\"MSFT\")"
   ]
  },
  {
   "cell_type": "code",
   "execution_count": 38,
   "metadata": {},
   "outputs": [
    {
     "data": {
      "text/plain": [
       "Date\n",
       "2003-02-19    0.08\n",
       "2003-10-15    0.16\n",
       "2004-08-23    0.08\n",
       "2004-11-15    3.08\n",
       "2005-02-15    0.08\n",
       "2005-05-16    0.08\n",
       "2005-08-15    0.08\n",
       "2005-11-15    0.08\n",
       "2006-02-15    0.09\n",
       "2006-05-15    0.09\n",
       "2006-08-15    0.09\n",
       "2006-11-14    0.10\n",
       "2007-02-13    0.10\n",
       "2007-05-15    0.10\n",
       "2007-08-14    0.10\n",
       "2007-11-13    0.11\n",
       "2008-02-19    0.11\n",
       "2008-05-13    0.11\n",
       "2008-08-19    0.11\n",
       "2008-11-18    0.13\n",
       "2009-02-17    0.13\n",
       "2009-05-19    0.13\n",
       "2009-08-18    0.13\n",
       "2009-11-17    0.13\n",
       "2010-02-16    0.13\n",
       "2010-05-18    0.13\n",
       "2010-08-17    0.13\n",
       "2010-11-16    0.16\n",
       "2011-02-15    0.16\n",
       "2011-05-17    0.16\n",
       "              ... \n",
       "2012-08-14    0.20\n",
       "2012-11-13    0.23\n",
       "2013-02-19    0.23\n",
       "2013-05-14    0.23\n",
       "2013-08-13    0.23\n",
       "2013-11-19    0.28\n",
       "2014-02-18    0.28\n",
       "2014-05-13    0.28\n",
       "2014-08-19    0.28\n",
       "2014-11-18    0.31\n",
       "2015-02-17    0.31\n",
       "2015-05-19    0.31\n",
       "2015-08-18    0.31\n",
       "2015-11-17    0.36\n",
       "2016-02-16    0.36\n",
       "2016-05-17    0.36\n",
       "2016-08-16    0.36\n",
       "2016-11-15    0.39\n",
       "2017-02-14    0.39\n",
       "2017-05-16    0.39\n",
       "2017-08-15    0.39\n",
       "2017-11-15    0.42\n",
       "2018-02-14    0.42\n",
       "2018-05-16    0.42\n",
       "2018-08-15    0.42\n",
       "2018-11-14    0.46\n",
       "2019-02-20    0.46\n",
       "2019-05-15    0.46\n",
       "2019-08-14    0.46\n",
       "2019-11-20    0.51\n",
       "Name: Dividends, Length: 64, dtype: float64"
      ]
     },
     "execution_count": 38,
     "metadata": {},
     "output_type": "execute_result"
    }
   ],
   "source": [
    "msft.dividends"
   ]
  },
  {
   "cell_type": "code",
   "execution_count": null,
   "metadata": {},
   "outputs": [],
   "source": []
  }
 ],
 "metadata": {
  "kernelspec": {
   "display_name": "Python 3",
   "language": "python",
   "name": "python3"
  },
  "language_info": {
   "codemirror_mode": {
    "name": "ipython",
    "version": 3
   },
   "file_extension": ".py",
   "mimetype": "text/x-python",
   "name": "python",
   "nbconvert_exporter": "python",
   "pygments_lexer": "ipython3",
   "version": "3.7.3"
  }
 },
 "nbformat": 4,
 "nbformat_minor": 2
}
