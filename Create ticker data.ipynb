{
 "cells": [
  {
   "cell_type": "markdown",
   "metadata": {},
   "source": [
    "Create an array of tickers."
   ]
  },
  {
   "cell_type": "code",
   "execution_count": 1,
   "metadata": {},
   "outputs": [],
   "source": [
    "import csv\n",
    "\n",
    "TICKERS = []\n",
    "FILE_TO_READ_TICKERS_FROM = \"tickernames.csv\"\n",
    "DATA_LOCATION = \"historical_stock_data/\"\n",
    "\n",
    "def read_csv_into_array(filename_to_read, coulumn_to_read_into_array):\n",
    "    \"\"\"\n",
    "    filename_to_read is a string that represents the file that should be written to an array\n",
    "    column_to_read_into_array is a string that represent which column to read into the array\n",
    "    \n",
    "    Function returns an array\n",
    "    \"\"\"\n",
    "    \n",
    "    array = []\n",
    "    \n",
    "    with open(\"tickernames.csv\") as csvfile:\n",
    "        reader = csv.DictReader(csvfile)\n",
    "        for row in reader:\n",
    "            array.append(row[\"tickername\"])\n",
    "        \n",
    "    \n",
    "    return array\n",
    "\n",
    "TICKERS = read_csv_into_array(FILE_TO_READ_TICKERS_FROM, \"tickername\")"
   ]
  },
  {
   "cell_type": "markdown",
   "metadata": {},
   "source": [
    "I need some stocks from the stock exchange in Norway, so I installed this package manually https://github.com/ntftrader/ntfdl "
   ]
  },
  {
   "cell_type": "markdown",
   "metadata": {},
   "source": [
    "Looping through the tickers and downloading the stock data"
   ]
  },
  {
   "cell_type": "code",
   "execution_count": 3,
   "metadata": {},
   "outputs": [],
   "source": [
    "from ntfdl import Dl\n",
    "import pandas as pd\n",
    "\n",
    "# Loop through tickers and save them as CSV files\n",
    "for tickername in TICKERS:\n",
    "    ticker_name = DATA_LOCATION + tickername + \".csv\"   \n",
    "    # Getting data from the stock exchange\n",
    "    tickerdata = Dl(tickername, exchange=\"OSE\", download=False)\n",
    "    pandas_df = pd.DataFrame(tickerdata.get_history())\n",
    "    # Use panda to write dataframe to CSV\n",
    "    pandas_df.to_csv(ticker_name, sep=\",\")\n",
    "\n",
    "        "
   ]
  },
  {
   "cell_type": "code",
   "execution_count": null,
   "metadata": {},
   "outputs": [],
   "source": []
  }
 ],
 "metadata": {
  "kernelspec": {
   "display_name": "Python 3",
   "language": "python",
   "name": "python3"
  },
  "language_info": {
   "codemirror_mode": {
    "name": "ipython",
    "version": 3
   },
   "file_extension": ".py",
   "mimetype": "text/x-python",
   "name": "python",
   "nbconvert_exporter": "python",
   "pygments_lexer": "ipython3",
   "version": "3.6.4"
  }
 },
 "nbformat": 4,
 "nbformat_minor": 2
}
