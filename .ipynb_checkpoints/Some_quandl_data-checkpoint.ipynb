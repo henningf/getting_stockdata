{
 "cells": [
  {
   "cell_type": "code",
   "execution_count": null,
   "metadata": {
    "collapsed": true
   },
   "outputs": [],
   "source": [
    "# I Got this code here: https://chrisconlan.com/download-historical-stock-data-google-r-python/\n",
    "import quandl\n",
    "import datetime\n",
    " \n",
    "quandl.ApiConfig.api_key = 'your_api_key'\n",
    " \n",
    "def quandl_stocks(symbol, start_date=(2000, 1, 1), end_date=None):\n",
    "    \"\"\"\n",
    "    symbol is a string representing a stock symbol, e.g. 'AAPL'\n",
    " \n",
    "    start_date and end_date are tuples of integers representing the year, month,\n",
    "    and day\n",
    " \n",
    "    end_date defaults to the current date when None\n",
    "    \"\"\"\n",
    " \n",
    "    query_list = ['WIKI' + '/' + symbol + '.' + str(k) for k in range(1, 13)]\n",
    " \n",
    "    start_date = datetime.date(*start_date)\n",
    " \n",
    "    if end_date:\n",
    "        end_date = datetime.date(*end_date)\n",
    "    else:\n",
    "        end_date = datetime.date.today()\n",
    " \n",
    "    return quandl.get(query_list, \n",
    "            returns='pandas', \n",
    "            start_date=start_date,\n",
    "            end_date=end_date,\n",
    "            collapse='daily',\n",
    "            order='asc'\n",
    "            )"
   ]
  }
 ],
 "metadata": {
  "kernelspec": {
   "display_name": "Python 3",
   "language": "python",
   "name": "python3"
  },
  "language_info": {
   "codemirror_mode": {
    "name": "ipython",
    "version": 3
   },
   "file_extension": ".py",
   "mimetype": "text/x-python",
   "name": "python",
   "nbconvert_exporter": "python",
   "pygments_lexer": "ipython3",
   "version": "3.6.3"
  }
 },
 "nbformat": 4,
 "nbformat_minor": 2
}
